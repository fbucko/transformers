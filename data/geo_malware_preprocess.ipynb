{
 "cells": [
  {
   "cell_type": "markdown",
   "id": "60edca49",
   "metadata": {},
   "source": [
    "# Flatten domain-IP JSON to a tidy DataFrame\n",
    "\n",
    "This notebook streams a large **JSON-Lines** export (one JSON object per line),\n",
    "explodes the `ip_data` list so you get **one row per IP**, flattens nested\n",
    "structures with `pandas.json_normalize`, converts Mongo `$date` strings to\n",
    "`datetime64[ns, UTC]`, and finally writes an efficient Parquet file.\n",
    "\n",
    "Place your raw file next to this notebook and name it **`domains.json`**.  \n",
    "If your file lives elsewhere, just change the `path` variable in the first code cell.\n"
   ]
  },
  {
   "cell_type": "code",
   "execution_count": null,
   "id": "a354e630",
   "metadata": {},
   "outputs": [
    {
     "name": "stdout",
     "output_type": "stream",
     "text": [
      "Loaded 100,809 domain objects\n"
     ]
    }
   ],
   "source": [
    "import json, pandas as pd, random\n",
    "from pathlib import Path\n",
    "\n",
    "# --- 1)  stream the massive JSON-lines export ------------------\n",
    "# Construct the path to the JSON file relative to this script's location.\n",
    "script_path = Path.cwd()\n",
    "# Go up 3 levels to the project root (from transformers/data -> transformers -> project_root)\n",
    "project_root = script_path.parent.parent\n",
    "\n",
    "def stream_json(path: Path):\n",
    "    \"\"\"Yield one parsed JSON object per line (memory-friendly).\"\"\"\n",
    "    with path.open(\"r\", encoding=\"utf-8\") as f:\n",
    "        for line in f:\n",
    "            line = line.strip()\n",
    "            if line:\n",
    "                yield json.loads(line)\n",
    "\n",
    "malware_file_path = project_root / \"datasets\" / \"malware\" / \"malware_strict_ip_2024.json\"\n",
    "benign_file_path = project_root / \"datasets\" / \"benign\" / \"benign_strict_ip_2024.json\"\n",
    "records = list(stream_json(malware_file_path))  # for truly huge files, build chunks\n",
    "print(f\"Loaded {len(records):,} domain objects\")\n"
   ]
  },
  {
   "cell_type": "code",
   "execution_count": null,
   "id": "ce458496",
   "metadata": {},
   "outputs": [
    {
     "name": "stdout",
     "output_type": "stream",
     "text": [
      "Shape: (160536, 60)\n"
     ]
    },
    {
     "data": {
      "application/vnd.microsoft.datawrangler.viewer.v0+json": {
       "columns": [
        {
         "name": "index",
         "rawType": "int64",
         "type": "integer"
        },
        {
         "name": "ip",
         "rawType": "object",
         "type": "string"
        },
        {
         "name": "from_record",
         "rawType": "object",
         "type": "string"
        },
        {
         "name": "remarks.rdap_evaluated_on.$date",
         "rawType": "object",
         "type": "string"
        },
        {
         "name": "remarks.asn_evaluated_on.$date",
         "rawType": "object",
         "type": "string"
        },
        {
         "name": "remarks.geo_evaluated_on.$date",
         "rawType": "object",
         "type": "string"
        },
        {
         "name": "remarks.icmp_evaluated_on",
         "rawType": "float64",
         "type": "float"
        },
        {
         "name": "remarks.is_alive",
         "rawType": "bool",
         "type": "boolean"
        },
        {
         "name": "remarks.average_rtt",
         "rawType": "float64",
         "type": "float"
        },
        {
         "name": "rdap.handle",
         "rawType": "object",
         "type": "unknown"
        },
        {
         "name": "rdap.parent_handle",
         "rawType": "object",
         "type": "unknown"
        },
        {
         "name": "rdap.name",
         "rawType": "object",
         "type": "unknown"
        },
        {
         "name": "rdap.whois_server",
         "rawType": "object",
         "type": "unknown"
        },
        {
         "name": "rdap.type",
         "rawType": "object",
         "type": "unknown"
        },
        {
         "name": "rdap.terms_of_service_url",
         "rawType": "object",
         "type": "unknown"
        },
        {
         "name": "rdap.copyright_notice",
         "rawType": "object",
         "type": "unknown"
        },
        {
         "name": "rdap.description",
         "rawType": "object",
         "type": "unknown"
        },
        {
         "name": "rdap.last_changed_date.$date",
         "rawType": "object",
         "type": "unknown"
        },
        {
         "name": "rdap.registration_date.$date",
         "rawType": "object",
         "type": "unknown"
        },
        {
         "name": "rdap.expiration_date",
         "rawType": "float64",
         "type": "float"
        },
        {
         "name": "rdap.url",
         "rawType": "object",
         "type": "unknown"
        },
        {
         "name": "rdap.rir",
         "rawType": "object",
         "type": "unknown"
        },
        {
         "name": "rdap.entities.registrant",
         "rawType": "object",
         "type": "unknown"
        },
        {
         "name": "rdap.entities.noc",
         "rawType": "object",
         "type": "unknown"
        },
        {
         "name": "rdap.entities.technical",
         "rawType": "object",
         "type": "unknown"
        },
        {
         "name": "rdap.entities.administrative",
         "rawType": "object",
         "type": "unknown"
        },
        {
         "name": "rdap.entities.abuse",
         "rawType": "object",
         "type": "unknown"
        },
        {
         "name": "rdap.country",
         "rawType": "object",
         "type": "unknown"
        },
        {
         "name": "rdap.ip_version",
         "rawType": "float64",
         "type": "float"
        },
        {
         "name": "rdap.assignment_type",
         "rawType": "object",
         "type": "unknown"
        },
        {
         "name": "rdap.network.prefix_length",
         "rawType": "float64",
         "type": "float"
        },
        {
         "name": "rdap.network.network_address",
         "rawType": "object",
         "type": "unknown"
        },
        {
         "name": "rdap.network.netmask",
         "rawType": "object",
         "type": "unknown"
        },
        {
         "name": "rdap.network.broadcast_address",
         "rawType": "object",
         "type": "unknown"
        },
        {
         "name": "rdap.network.hostmask",
         "rawType": "object",
         "type": "unknown"
        },
        {
         "name": "asn.asn",
         "rawType": "float64",
         "type": "float"
        },
        {
         "name": "asn.as_org",
         "rawType": "object",
         "type": "string"
        },
        {
         "name": "asn.network_address",
         "rawType": "object",
         "type": "string"
        },
        {
         "name": "asn.prefix_len",
         "rawType": "float64",
         "type": "float"
        },
        {
         "name": "geo.country",
         "rawType": "object",
         "type": "string"
        },
        {
         "name": "geo.country_code",
         "rawType": "object",
         "type": "string"
        },
        {
         "name": "geo.region",
         "rawType": "object",
         "type": "unknown"
        },
        {
         "name": "geo.region_code",
         "rawType": "object",
         "type": "unknown"
        },
        {
         "name": "geo.city",
         "rawType": "object",
         "type": "unknown"
        },
        {
         "name": "geo.postal_code",
         "rawType": "object",
         "type": "unknown"
        },
        {
         "name": "geo.latitude",
         "rawType": "float64",
         "type": "float"
        },
        {
         "name": "geo.longitude",
         "rawType": "float64",
         "type": "float"
        },
        {
         "name": "geo.timezone",
         "rawType": "object",
         "type": "string"
        },
        {
         "name": "geo.isp",
         "rawType": "float64",
         "type": "float"
        },
        {
         "name": "geo.org",
         "rawType": "float64",
         "type": "float"
        },
        {
         "name": "rdap",
         "rawType": "float64",
         "type": "float"
        },
        {
         "name": "remarks.icmp_evaluated_on.$date",
         "rawType": "object",
         "type": "unknown"
        },
        {
         "name": "rdap.entities.routing",
         "rawType": "object",
         "type": "unknown"
        },
        {
         "name": "rdap.entities.dns",
         "rawType": "object",
         "type": "unknown"
        },
        {
         "name": "rdap.registration_date",
         "rawType": "float64",
         "type": "float"
        },
        {
         "name": "asn",
         "rawType": "float64",
         "type": "float"
        },
        {
         "name": "rdap.last_changed_date",
         "rawType": "float64",
         "type": "float"
        },
        {
         "name": "geo",
         "rawType": "float64",
         "type": "float"
        },
        {
         "name": "rdap.entities.registrar",
         "rawType": "object",
         "type": "unknown"
        },
        {
         "name": "domain_name",
         "rawType": "object",
         "type": "string"
        },
        {
         "name": "domain_id",
         "rawType": "object",
         "type": "string"
        }
       ],
       "conversionMethod": "pd.DataFrame",
       "ref": "14190555-b749-4345-a765-481c7d046949",
       "rows": [
        [
         "0",
         "192.243.61.225",
         "A",
         "2023-11-28T16:14:57.354Z",
         "2023-11-28T16:14:57.354Z",
         "2023-11-29T12:44:26.883Z",
         null,
         "False",
         "0.0",
         "NET-192-243-48-0-1",
         "NET-192-0-0-0-0",
         "ADVANCEDHOSTERS-NET",
         "whois.arin.net",
         "ip network",
         "https://www.arin.net/resources/registry/whois/tou/",
         "Copyright 1997-2023, American Registry for Internet Numbers, Ltd.",
         "[]",
         "2014-03-18T15:16:18Z",
         "2012-10-08T17:08:35Z",
         null,
         "https://rdap.arin.net/registry/ip/192.243.48.0",
         "arin",
         "[{'handle': 'ISSC-11', 'url': 'https://rdap.arin.net/registry/entity/ISSC-11', 'type': 'entity', 'whois_server': 'whois.arin.net', 'rir': 'arin', 'name': 'Internet Service Solution Corp.'}]",
         "[{'handle': 'ISSN-ARIN', 'url': 'https://rdap.arin.net/registry/entity/ISSN-ARIN', 'type': 'entity', 'whois_server': 'whois.arin.net', 'rir': 'arin', 'name': 'Internet Service Solution NOC', 'email': 'ncc@advancedhosters.com', 'tel': '+48691832486'}]",
         "[{'handle': 'ISSN-ARIN', 'url': 'https://rdap.arin.net/registry/entity/ISSN-ARIN', 'type': 'entity', 'whois_server': 'whois.arin.net', 'rir': 'arin', 'name': 'Internet Service Solution NOC', 'email': 'ncc@advancedhosters.com', 'tel': '+48691832486'}]",
         "[{'handle': 'ISSN-ARIN', 'url': 'https://rdap.arin.net/registry/entity/ISSN-ARIN', 'type': 'entity', 'whois_server': 'whois.arin.net', 'rir': 'arin', 'name': 'Internet Service Solution NOC', 'email': 'ncc@advancedhosters.com', 'tel': '+48691832486'}]",
         "[{'handle': 'ISSA-ARIN', 'url': 'https://rdap.arin.net/registry/entity/ISSA-ARIN', 'type': 'entity', 'whois_server': 'whois.arin.net', 'rir': 'arin', 'name': 'Internet Service Solution Abuse', 'email': 'abuse@advancedhosters.com', 'tel': '+44020 7419 5039'}]",
         "",
         "4.0",
         "direct allocation",
         "20.0",
         "192.243.48.0",
         "255.255.240.0",
         "192.243.63.255",
         "0.0.15.255",
         "39572.0",
         "DataWeb Global Group B.V.",
         "192.243.48.0",
         "20.0",
         "United States",
         "US",
         "Virginia",
         "VA",
         "Ashburn",
         "20147",
         "39.018",
         "-77.539",
         "America/New_York",
         null,
         null,
         null,
         null,
         null,
         null,
         null,
         null,
         null,
         null,
         null,
         "irradiateher.com",
         "6565e3c49a18c76b58687467"
        ],
        [
         "1",
         "173.233.137.44",
         "A",
         "2023-11-28T16:15:06.142Z",
         "2023-11-28T16:15:06.142Z",
         "2023-11-29T12:44:26.884Z",
         null,
         "False",
         "124.545",
         "NET-173-233-136-0-1",
         "NET-173-233-128-0-1",
         "SERVERS-COM-WAS1",
         "whois.arin.net",
         "ip network",
         "https://www.arin.net/resources/registry/whois/tou/",
         "Copyright 1997-2023, American Registry for Internet Numbers, Ltd.",
         "[]",
         "2022-04-25T21:44:56Z",
         "2022-04-25T21:44:56Z",
         null,
         "https://rdap.arin.net/registry/ip/173.233.136.0",
         "arin",
         "[{'handle': 'SERVE-105', 'url': 'https://rdap.arin.net/registry/entity/SERVE-105', 'type': 'entity', 'whois_server': 'whois.arin.net', 'rir': 'arin', 'name': 'Servers.com, Inc.'}]",
         "[{'handle': 'ARINM3-ARIN', 'url': 'https://rdap.arin.net/registry/entity/ARINM3-ARIN', 'type': 'entity', 'whois_server': 'whois.arin.net', 'rir': 'arin', 'name': 'ARIN Manager', 'email': 'abuse@servers.com', 'tel': '+1-214-599-9446'}]",
         "[{'handle': 'ARINM3-ARIN', 'url': 'https://rdap.arin.net/registry/entity/ARINM3-ARIN', 'type': 'entity', 'whois_server': 'whois.arin.net', 'rir': 'arin', 'name': 'ARIN Manager', 'email': 'abuse@servers.com', 'tel': '+1-214-599-9446'}]",
         "[{'handle': 'ARINM3-ARIN', 'url': 'https://rdap.arin.net/registry/entity/ARINM3-ARIN', 'type': 'entity', 'whois_server': 'whois.arin.net', 'rir': 'arin', 'name': 'ARIN Manager', 'email': 'abuse@servers.com', 'tel': '+1-214-599-9446'}]",
         "[{'handle': 'ARINM3-ARIN', 'url': 'https://rdap.arin.net/registry/entity/ARINM3-ARIN', 'type': 'entity', 'whois_server': 'whois.arin.net', 'rir': 'arin', 'name': 'ARIN Manager', 'email': 'abuse@servers.com', 'tel': '+1-214-599-9446'}]",
         "",
         "4.0",
         "assignment",
         "22.0",
         "173.233.136.0",
         "255.255.252.0",
         "173.233.139.255",
         "0.0.3.255",
         "7979.0",
         "SERVERS-COM",
         "173.233.128.0",
         "19.0",
         "United States",
         "US",
         null,
         null,
         null,
         null,
         "37.751",
         "-97.822",
         "America/Chicago",
         null,
         null,
         null,
         null,
         null,
         null,
         null,
         null,
         null,
         null,
         null,
         "irradiateher.com",
         "6565e3c49a18c76b58687467"
        ],
        [
         "2",
         "192.243.59.12",
         "A",
         "2023-11-28T16:15:17.609Z",
         "2023-11-28T16:15:17.609Z",
         "2023-11-29T12:44:26.884Z",
         null,
         "False",
         "104.985",
         null,
         null,
         null,
         null,
         null,
         null,
         null,
         null,
         null,
         null,
         null,
         null,
         null,
         null,
         null,
         null,
         null,
         null,
         null,
         null,
         null,
         null,
         null,
         null,
         null,
         null,
         "39572.0",
         "DataWeb Global Group B.V.",
         "192.243.48.0",
         "20.0",
         "United States",
         "US",
         "Virginia",
         "VA",
         "Ashburn",
         "20147",
         "39.018",
         "-77.539",
         "America/New_York",
         null,
         null,
         null,
         null,
         null,
         null,
         null,
         null,
         null,
         null,
         null,
         "irradiateher.com",
         "6565e3c49a18c76b58687467"
        ],
        [
         "3",
         "192.243.59.13",
         "A",
         "2023-11-28T16:15:18.148Z",
         "2023-11-28T16:15:18.149Z",
         "2023-11-29T12:44:26.884Z",
         null,
         "False",
         "112.451",
         "NET-192-243-59-0-1",
         "NET-192-243-48-0-1",
         "ADVANCEDHOSTERS-NET",
         "whois.arin.net",
         "ip network",
         "https://www.arin.net/resources/registry/whois/tou/",
         "Copyright 1997-2023, American Registry for Internet Numbers, Ltd.",
         "[]",
         "2020-10-07T16:20:55Z",
         "2020-10-07T16:20:55Z",
         null,
         "https://rdap.arin.net/registry/ip/192.243.59.0",
         "arin",
         "[{'handle': 'C07656412', 'url': 'https://rdap.arin.net/registry/entity/C07656412', 'type': 'entity', 'whois_server': 'whois.arin.net', 'rir': 'arin', 'name': 'Advancedhosters'}, {'handle': 'ISSC-11', 'url': 'https://rdap.arin.net/registry/entity/ISSC-11', 'type': 'entity', 'whois_server': 'whois.arin.net', 'rir': 'arin', 'name': 'Internet Service Solution Corp.'}]",
         "[{'handle': 'ISSN-ARIN', 'url': 'https://rdap.arin.net/registry/entity/ISSN-ARIN', 'type': 'entity', 'whois_server': 'whois.arin.net', 'rir': 'arin', 'name': 'Internet Service Solution NOC', 'email': 'ncc@advancedhosters.com', 'tel': '+48691832486'}]",
         "[{'handle': 'ISSN-ARIN', 'url': 'https://rdap.arin.net/registry/entity/ISSN-ARIN', 'type': 'entity', 'whois_server': 'whois.arin.net', 'rir': 'arin', 'name': 'Internet Service Solution NOC', 'email': 'ncc@advancedhosters.com', 'tel': '+48691832486'}]",
         "[{'handle': 'ISSN-ARIN', 'url': 'https://rdap.arin.net/registry/entity/ISSN-ARIN', 'type': 'entity', 'whois_server': 'whois.arin.net', 'rir': 'arin', 'name': 'Internet Service Solution NOC', 'email': 'ncc@advancedhosters.com', 'tel': '+48691832486'}]",
         "[{'handle': 'ISSA-ARIN', 'url': 'https://rdap.arin.net/registry/entity/ISSA-ARIN', 'type': 'entity', 'whois_server': 'whois.arin.net', 'rir': 'arin', 'name': 'Internet Service Solution Abuse', 'email': 'abuse@advancedhosters.com', 'tel': '+44020 7419 5039'}]",
         "",
         "4.0",
         "assignment",
         "24.0",
         "192.243.59.0",
         "255.255.255.0",
         "192.243.59.255",
         "0.0.0.255",
         "39572.0",
         "DataWeb Global Group B.V.",
         "192.243.48.0",
         "20.0",
         "United States",
         "US",
         "Virginia",
         "VA",
         "Ashburn",
         "20147",
         "39.018",
         "-77.539",
         "America/New_York",
         null,
         null,
         null,
         null,
         null,
         null,
         null,
         null,
         null,
         null,
         null,
         "irradiateher.com",
         "6565e3c49a18c76b58687467"
        ],
        [
         "4",
         "192.243.61.227",
         "A",
         "2023-11-28T16:15:27.06Z",
         "2023-11-28T16:15:27.06Z",
         "2023-11-29T12:44:26.884Z",
         null,
         "False",
         "107.473",
         "NET-192-243-48-0-1",
         "NET-192-0-0-0-0",
         "ADVANCEDHOSTERS-NET",
         "whois.arin.net",
         "ip network",
         "https://www.arin.net/resources/registry/whois/tou/",
         "Copyright 1997-2023, American Registry for Internet Numbers, Ltd.",
         "[]",
         "2014-03-18T15:16:18Z",
         "2012-10-08T17:08:35Z",
         null,
         "https://rdap.arin.net/registry/ip/192.243.48.0",
         "arin",
         "[{'handle': 'ISSC-11', 'url': 'https://rdap.arin.net/registry/entity/ISSC-11', 'type': 'entity', 'whois_server': 'whois.arin.net', 'rir': 'arin', 'name': 'Internet Service Solution Corp.'}]",
         "[{'handle': 'ISSN-ARIN', 'url': 'https://rdap.arin.net/registry/entity/ISSN-ARIN', 'type': 'entity', 'whois_server': 'whois.arin.net', 'rir': 'arin', 'name': 'Internet Service Solution NOC', 'email': 'ncc@advancedhosters.com', 'tel': '+48691832486'}]",
         "[{'handle': 'ISSN-ARIN', 'url': 'https://rdap.arin.net/registry/entity/ISSN-ARIN', 'type': 'entity', 'whois_server': 'whois.arin.net', 'rir': 'arin', 'name': 'Internet Service Solution NOC', 'email': 'ncc@advancedhosters.com', 'tel': '+48691832486'}]",
         "[{'handle': 'ISSN-ARIN', 'url': 'https://rdap.arin.net/registry/entity/ISSN-ARIN', 'type': 'entity', 'whois_server': 'whois.arin.net', 'rir': 'arin', 'name': 'Internet Service Solution NOC', 'email': 'ncc@advancedhosters.com', 'tel': '+48691832486'}]",
         "[{'handle': 'ISSA-ARIN', 'url': 'https://rdap.arin.net/registry/entity/ISSA-ARIN', 'type': 'entity', 'whois_server': 'whois.arin.net', 'rir': 'arin', 'name': 'Internet Service Solution Abuse', 'email': 'abuse@advancedhosters.com', 'tel': '+44020 7419 5039'}]",
         "",
         "4.0",
         "direct allocation",
         "20.0",
         "192.243.48.0",
         "255.255.240.0",
         "192.243.63.255",
         "0.0.15.255",
         "39572.0",
         "DataWeb Global Group B.V.",
         "192.243.48.0",
         "20.0",
         "United States",
         "US",
         "Virginia",
         "VA",
         "Ashburn",
         "20147",
         "39.018",
         "-77.539",
         "America/New_York",
         null,
         null,
         null,
         null,
         null,
         null,
         null,
         null,
         null,
         null,
         null,
         "irradiateher.com",
         "6565e3c49a18c76b58687467"
        ]
       ],
       "shape": {
        "columns": 60,
        "rows": 5
       }
      },
      "text/html": [
       "<div>\n",
       "<style scoped>\n",
       "    .dataframe tbody tr th:only-of-type {\n",
       "        vertical-align: middle;\n",
       "    }\n",
       "\n",
       "    .dataframe tbody tr th {\n",
       "        vertical-align: top;\n",
       "    }\n",
       "\n",
       "    .dataframe thead th {\n",
       "        text-align: right;\n",
       "    }\n",
       "</style>\n",
       "<table border=\"1\" class=\"dataframe\">\n",
       "  <thead>\n",
       "    <tr style=\"text-align: right;\">\n",
       "      <th></th>\n",
       "      <th>ip</th>\n",
       "      <th>from_record</th>\n",
       "      <th>remarks.rdap_evaluated_on.$date</th>\n",
       "      <th>remarks.asn_evaluated_on.$date</th>\n",
       "      <th>remarks.geo_evaluated_on.$date</th>\n",
       "      <th>remarks.icmp_evaluated_on</th>\n",
       "      <th>remarks.is_alive</th>\n",
       "      <th>remarks.average_rtt</th>\n",
       "      <th>rdap.handle</th>\n",
       "      <th>rdap.parent_handle</th>\n",
       "      <th>...</th>\n",
       "      <th>remarks.icmp_evaluated_on.$date</th>\n",
       "      <th>rdap.entities.routing</th>\n",
       "      <th>rdap.entities.dns</th>\n",
       "      <th>rdap.registration_date</th>\n",
       "      <th>asn</th>\n",
       "      <th>rdap.last_changed_date</th>\n",
       "      <th>geo</th>\n",
       "      <th>rdap.entities.registrar</th>\n",
       "      <th>domain_name</th>\n",
       "      <th>domain_id</th>\n",
       "    </tr>\n",
       "  </thead>\n",
       "  <tbody>\n",
       "    <tr>\n",
       "      <th>0</th>\n",
       "      <td>192.243.61.225</td>\n",
       "      <td>A</td>\n",
       "      <td>2023-11-28T16:14:57.354Z</td>\n",
       "      <td>2023-11-28T16:14:57.354Z</td>\n",
       "      <td>2023-11-29T12:44:26.883Z</td>\n",
       "      <td>NaN</td>\n",
       "      <td>False</td>\n",
       "      <td>0.000</td>\n",
       "      <td>NET-192-243-48-0-1</td>\n",
       "      <td>NET-192-0-0-0-0</td>\n",
       "      <td>...</td>\n",
       "      <td>NaN</td>\n",
       "      <td>NaN</td>\n",
       "      <td>NaN</td>\n",
       "      <td>NaN</td>\n",
       "      <td>NaN</td>\n",
       "      <td>NaN</td>\n",
       "      <td>NaN</td>\n",
       "      <td>NaN</td>\n",
       "      <td>irradiateher.com</td>\n",
       "      <td>6565e3c49a18c76b58687467</td>\n",
       "    </tr>\n",
       "    <tr>\n",
       "      <th>1</th>\n",
       "      <td>173.233.137.44</td>\n",
       "      <td>A</td>\n",
       "      <td>2023-11-28T16:15:06.142Z</td>\n",
       "      <td>2023-11-28T16:15:06.142Z</td>\n",
       "      <td>2023-11-29T12:44:26.884Z</td>\n",
       "      <td>NaN</td>\n",
       "      <td>False</td>\n",
       "      <td>124.545</td>\n",
       "      <td>NET-173-233-136-0-1</td>\n",
       "      <td>NET-173-233-128-0-1</td>\n",
       "      <td>...</td>\n",
       "      <td>NaN</td>\n",
       "      <td>NaN</td>\n",
       "      <td>NaN</td>\n",
       "      <td>NaN</td>\n",
       "      <td>NaN</td>\n",
       "      <td>NaN</td>\n",
       "      <td>NaN</td>\n",
       "      <td>NaN</td>\n",
       "      <td>irradiateher.com</td>\n",
       "      <td>6565e3c49a18c76b58687467</td>\n",
       "    </tr>\n",
       "    <tr>\n",
       "      <th>2</th>\n",
       "      <td>192.243.59.12</td>\n",
       "      <td>A</td>\n",
       "      <td>2023-11-28T16:15:17.609Z</td>\n",
       "      <td>2023-11-28T16:15:17.609Z</td>\n",
       "      <td>2023-11-29T12:44:26.884Z</td>\n",
       "      <td>NaN</td>\n",
       "      <td>False</td>\n",
       "      <td>104.985</td>\n",
       "      <td>NaN</td>\n",
       "      <td>NaN</td>\n",
       "      <td>...</td>\n",
       "      <td>NaN</td>\n",
       "      <td>NaN</td>\n",
       "      <td>NaN</td>\n",
       "      <td>NaN</td>\n",
       "      <td>NaN</td>\n",
       "      <td>NaN</td>\n",
       "      <td>NaN</td>\n",
       "      <td>NaN</td>\n",
       "      <td>irradiateher.com</td>\n",
       "      <td>6565e3c49a18c76b58687467</td>\n",
       "    </tr>\n",
       "    <tr>\n",
       "      <th>3</th>\n",
       "      <td>192.243.59.13</td>\n",
       "      <td>A</td>\n",
       "      <td>2023-11-28T16:15:18.148Z</td>\n",
       "      <td>2023-11-28T16:15:18.149Z</td>\n",
       "      <td>2023-11-29T12:44:26.884Z</td>\n",
       "      <td>NaN</td>\n",
       "      <td>False</td>\n",
       "      <td>112.451</td>\n",
       "      <td>NET-192-243-59-0-1</td>\n",
       "      <td>NET-192-243-48-0-1</td>\n",
       "      <td>...</td>\n",
       "      <td>NaN</td>\n",
       "      <td>NaN</td>\n",
       "      <td>NaN</td>\n",
       "      <td>NaN</td>\n",
       "      <td>NaN</td>\n",
       "      <td>NaN</td>\n",
       "      <td>NaN</td>\n",
       "      <td>NaN</td>\n",
       "      <td>irradiateher.com</td>\n",
       "      <td>6565e3c49a18c76b58687467</td>\n",
       "    </tr>\n",
       "    <tr>\n",
       "      <th>4</th>\n",
       "      <td>192.243.61.227</td>\n",
       "      <td>A</td>\n",
       "      <td>2023-11-28T16:15:27.06Z</td>\n",
       "      <td>2023-11-28T16:15:27.06Z</td>\n",
       "      <td>2023-11-29T12:44:26.884Z</td>\n",
       "      <td>NaN</td>\n",
       "      <td>False</td>\n",
       "      <td>107.473</td>\n",
       "      <td>NET-192-243-48-0-1</td>\n",
       "      <td>NET-192-0-0-0-0</td>\n",
       "      <td>...</td>\n",
       "      <td>NaN</td>\n",
       "      <td>NaN</td>\n",
       "      <td>NaN</td>\n",
       "      <td>NaN</td>\n",
       "      <td>NaN</td>\n",
       "      <td>NaN</td>\n",
       "      <td>NaN</td>\n",
       "      <td>NaN</td>\n",
       "      <td>irradiateher.com</td>\n",
       "      <td>6565e3c49a18c76b58687467</td>\n",
       "    </tr>\n",
       "  </tbody>\n",
       "</table>\n",
       "<p>5 rows × 60 columns</p>\n",
       "</div>"
      ],
      "text/plain": [
       "               ip from_record remarks.rdap_evaluated_on.$date  \\\n",
       "0  192.243.61.225           A        2023-11-28T16:14:57.354Z   \n",
       "1  173.233.137.44           A        2023-11-28T16:15:06.142Z   \n",
       "2   192.243.59.12           A        2023-11-28T16:15:17.609Z   \n",
       "3   192.243.59.13           A        2023-11-28T16:15:18.148Z   \n",
       "4  192.243.61.227           A         2023-11-28T16:15:27.06Z   \n",
       "\n",
       "  remarks.asn_evaluated_on.$date remarks.geo_evaluated_on.$date  \\\n",
       "0       2023-11-28T16:14:57.354Z       2023-11-29T12:44:26.883Z   \n",
       "1       2023-11-28T16:15:06.142Z       2023-11-29T12:44:26.884Z   \n",
       "2       2023-11-28T16:15:17.609Z       2023-11-29T12:44:26.884Z   \n",
       "3       2023-11-28T16:15:18.149Z       2023-11-29T12:44:26.884Z   \n",
       "4        2023-11-28T16:15:27.06Z       2023-11-29T12:44:26.884Z   \n",
       "\n",
       "   remarks.icmp_evaluated_on  remarks.is_alive  remarks.average_rtt  \\\n",
       "0                        NaN             False                0.000   \n",
       "1                        NaN             False              124.545   \n",
       "2                        NaN             False              104.985   \n",
       "3                        NaN             False              112.451   \n",
       "4                        NaN             False              107.473   \n",
       "\n",
       "           rdap.handle   rdap.parent_handle  ...  \\\n",
       "0   NET-192-243-48-0-1      NET-192-0-0-0-0  ...   \n",
       "1  NET-173-233-136-0-1  NET-173-233-128-0-1  ...   \n",
       "2                  NaN                  NaN  ...   \n",
       "3   NET-192-243-59-0-1   NET-192-243-48-0-1  ...   \n",
       "4   NET-192-243-48-0-1      NET-192-0-0-0-0  ...   \n",
       "\n",
       "  remarks.icmp_evaluated_on.$date rdap.entities.routing rdap.entities.dns  \\\n",
       "0                             NaN                   NaN               NaN   \n",
       "1                             NaN                   NaN               NaN   \n",
       "2                             NaN                   NaN               NaN   \n",
       "3                             NaN                   NaN               NaN   \n",
       "4                             NaN                   NaN               NaN   \n",
       "\n",
       "  rdap.registration_date asn rdap.last_changed_date geo  \\\n",
       "0                    NaN NaN                    NaN NaN   \n",
       "1                    NaN NaN                    NaN NaN   \n",
       "2                    NaN NaN                    NaN NaN   \n",
       "3                    NaN NaN                    NaN NaN   \n",
       "4                    NaN NaN                    NaN NaN   \n",
       "\n",
       "  rdap.entities.registrar       domain_name                 domain_id  \n",
       "0                     NaN  irradiateher.com  6565e3c49a18c76b58687467  \n",
       "1                     NaN  irradiateher.com  6565e3c49a18c76b58687467  \n",
       "2                     NaN  irradiateher.com  6565e3c49a18c76b58687467  \n",
       "3                     NaN  irradiateher.com  6565e3c49a18c76b58687467  \n",
       "4                     NaN  irradiateher.com  6565e3c49a18c76b58687467  \n",
       "\n",
       "[5 rows x 60 columns]"
      ]
     },
     "execution_count": 3,
     "metadata": {},
     "output_type": "execute_result"
    }
   ],
   "source": [
    "# --- 2)  explode `ip_data` and flatten everything else ----------\n",
    "df = pd.json_normalize(\n",
    "        records,\n",
    "        record_path=\"ip_data\",                # → 1 row per IP\n",
    "        meta=[\"domain_name\", [\"_id\", \"$oid\"]],\n",
    "        sep=\".\"                               # dotted column names\n",
    "     ).rename(columns={\"_id.$oid\": \"domain_id\"})\n",
    "\n",
    "print(\"Shape:\", df.shape)\n",
    "df.head()\n",
    "\n"
   ]
  },
  {
   "cell_type": "code",
   "execution_count": 1,
   "id": "ab15df06",
   "metadata": {},
   "outputs": [],
   "source": [
    "import pandas as pd\n",
    "from pathlib import Path\n",
    "import json\n",
    "import random"
   ]
  },
  {
   "cell_type": "code",
   "execution_count": 6,
   "id": "d8a7823b",
   "metadata": {},
   "outputs": [
    {
     "name": "stdout",
     "output_type": "stream",
     "text": [
      "(100809, 3) domain rows loaded\n"
     ]
    }
   ],
   "source": [
    "# Change 'domains.json' to your file if different\n",
    "\n",
    "def stream_json(path: Path):\n",
    "    with path.open(\"r\", encoding=\"utf-8\") as f:\n",
    "        for line in f:\n",
    "            line = line.strip()\n",
    "            if line:\n",
    "                yield json.loads(line)\n",
    "\n",
    "df = pd.DataFrame(stream_json(malware_file_path))\n",
    "print(df.shape, \"domain rows loaded\")\n"
   ]
  },
  {
   "cell_type": "code",
   "execution_count": 19,
   "id": "d4f96c32",
   "metadata": {},
   "outputs": [],
   "source": [
    "def geo_tokens_from_ip_data(ip_data):\n",
    "    \"\"\"\n",
    "    Return a list of token strings built from ip_data's geo sub-objects.\n",
    "    Uses FULL country names; handles missing/None values safely.\n",
    "    \"\"\"\n",
    "    if not ip_data:\n",
    "        return [\n",
    "            \"ip_count: 0\",\n",
    "            \"countries: NA\",\n",
    "            \"regions: NA\",\n",
    "            \"cities: NA\",\n",
    "            \"timezones: NA\",\n",
    "        ]\n",
    "\n",
    "    ip_count = len(ip_data)\n",
    "    countries, regions, cities, timezones = set(), set(), set(), set()\n",
    "\n",
    "    for rec in ip_data:\n",
    "        if not isinstance(rec, dict):\n",
    "            continue\n",
    "        geo = rec.get(\"geo\") or {}\n",
    "        countries.add(geo.get(\"country\") or geo.get(\"country_code\") or \"NA\")\n",
    "        regions.add(geo.get(\"region\") or \"NA\")\n",
    "        cities.add(geo.get(\"city\") or \"NA\")\n",
    "        timezones.add(geo.get(\"timezone\") or \"NA\")\n",
    "\n",
    "    def uniq(vals):\n",
    "        vals.discard(\"NA\")\n",
    "        return \", \".join(sorted(vals)) if vals else \"NA\"\n",
    "\n",
    "    return [\n",
    "        f\"ip_count: {ip_count}\",\n",
    "        f\"countries: {uniq(countries)}\",\n",
    "        f\"regions:   {uniq(regions)}\",\n",
    "        f\"cities:    {uniq(cities)}\",\n",
    "        f\"timezones: {uniq(timezones)}\",\n",
    "    ]\n"
   ]
  },
  {
   "cell_type": "code",
   "execution_count": 20,
   "id": "88bf2d29",
   "metadata": {},
   "outputs": [
    {
     "data": {
      "application/vnd.microsoft.datawrangler.viewer.v0+json": {
       "columns": [
        {
         "name": "index",
         "rawType": "int64",
         "type": "integer"
        },
        {
         "name": "domain_name",
         "rawType": "object",
         "type": "string"
        },
        {
         "name": "input_string",
         "rawType": "object",
         "type": "string"
        }
       ],
       "conversionMethod": "pd.DataFrame",
       "ref": "45c42998-acc8-4e2d-add8-73ac91bacdb8",
       "rows": [
        [
         "0",
         "irradiateher.com",
         "[CLS] domain: irradiateher.com [SEP] ip_count: 10 [SEP] countries: United States [SEP] regions:   Virginia [SEP] cities:    Ashburn [SEP] timezones: America/Chicago, America/New_York [SEP]"
        ],
        [
         "1",
         "eloquentcs.com",
         "[CLS] domain: eloquentcs.com [SEP] ip_count: 1 [SEP] countries: United States [SEP] regions:   NA [SEP] cities:    NA [SEP] timezones: America/Chicago [SEP]"
        ],
        [
         "2",
         "www.neutralsystemsolution.space",
         "[CLS] domain: neutralsystemsolution.space [SEP] ip_count: 1 [SEP] countries: United States [SEP] regions:   Missouri [SEP] cities:    Kansas City [SEP] timezones: America/Chicago [SEP]"
        ],
        [
         "3",
         "www.drshiwanijainpainclinic.com",
         "[CLS] domain: drshiwanijainpainclinic.com [SEP] ip_count: 1 [SEP] countries: The Netherlands [SEP] regions:   Flevoland [SEP] cities:    Dronten [SEP] timezones: Europe/Amsterdam [SEP]"
        ],
        [
         "4",
         "mkt9136.com",
         "[CLS] domain: mkt9136.com [SEP] ip_count: 1 [SEP] countries: Germany [SEP] regions:   Hesse [SEP] cities:    Frankfurt am Main [SEP] timezones: Europe/Berlin [SEP]"
        ]
       ],
       "shape": {
        "columns": 2,
        "rows": 5
       }
      },
      "text/html": [
       "<div>\n",
       "<style scoped>\n",
       "    .dataframe tbody tr th:only-of-type {\n",
       "        vertical-align: middle;\n",
       "    }\n",
       "\n",
       "    .dataframe tbody tr th {\n",
       "        vertical-align: top;\n",
       "    }\n",
       "\n",
       "    .dataframe thead th {\n",
       "        text-align: right;\n",
       "    }\n",
       "</style>\n",
       "<table border=\"1\" class=\"dataframe\">\n",
       "  <thead>\n",
       "    <tr style=\"text-align: right;\">\n",
       "      <th></th>\n",
       "      <th>domain_name</th>\n",
       "      <th>input_string</th>\n",
       "    </tr>\n",
       "  </thead>\n",
       "  <tbody>\n",
       "    <tr>\n",
       "      <th>0</th>\n",
       "      <td>irradiateher.com</td>\n",
       "      <td>[CLS] domain: irradiateher.com [SEP] ip_count:...</td>\n",
       "    </tr>\n",
       "    <tr>\n",
       "      <th>1</th>\n",
       "      <td>eloquentcs.com</td>\n",
       "      <td>[CLS] domain: eloquentcs.com [SEP] ip_count: 1...</td>\n",
       "    </tr>\n",
       "    <tr>\n",
       "      <th>2</th>\n",
       "      <td>www.neutralsystemsolution.space</td>\n",
       "      <td>[CLS] domain: neutralsystemsolution.space [SEP...</td>\n",
       "    </tr>\n",
       "    <tr>\n",
       "      <th>3</th>\n",
       "      <td>www.drshiwanijainpainclinic.com</td>\n",
       "      <td>[CLS] domain: drshiwanijainpainclinic.com [SEP...</td>\n",
       "    </tr>\n",
       "    <tr>\n",
       "      <th>4</th>\n",
       "      <td>mkt9136.com</td>\n",
       "      <td>[CLS] domain: mkt9136.com [SEP] ip_count: 1 [S...</td>\n",
       "    </tr>\n",
       "  </tbody>\n",
       "</table>\n",
       "</div>"
      ],
      "text/plain": [
       "                       domain_name  \\\n",
       "0                 irradiateher.com   \n",
       "1                   eloquentcs.com   \n",
       "2  www.neutralsystemsolution.space   \n",
       "3  www.drshiwanijainpainclinic.com   \n",
       "4                      mkt9136.com   \n",
       "\n",
       "                                        input_string  \n",
       "0  [CLS] domain: irradiateher.com [SEP] ip_count:...  \n",
       "1  [CLS] domain: eloquentcs.com [SEP] ip_count: 1...  \n",
       "2  [CLS] domain: neutralsystemsolution.space [SEP...  \n",
       "3  [CLS] domain: drshiwanijainpainclinic.com [SEP...  \n",
       "4  [CLS] domain: mkt9136.com [SEP] ip_count: 1 [S...  "
      ]
     },
     "execution_count": 20,
     "metadata": {},
     "output_type": "execute_result"
    }
   ],
   "source": [
    "def prepare_geo_input_string(row):\n",
    "    CLS, SEP = \"[CLS]\", \"[SEP]\"\n",
    "    tokens = []\n",
    "\n",
    "    # domain token\n",
    "    domain = (row.get(\"domain_name\") or \"NA\").lower().lstrip(\"www.\")\n",
    "    tokens.append(f\"domain: {domain}\")\n",
    "\n",
    "    # geo tokens\n",
    "    tokens.extend(geo_tokens_from_ip_data(row.get(\"ip_data\")))\n",
    "\n",
    "    return f\"{CLS} \" + f\" {SEP} \".join(tokens) + f\" {SEP}\"\n",
    "\n",
    "df[\"input_string\"] = df.apply(prepare_geo_input_string, axis=1)\n",
    "df[[\"domain_name\", \"input_string\"]].head()\n"
   ]
  },
  {
   "cell_type": "code",
   "execution_count": 15,
   "id": "a1ae7547",
   "metadata": {},
   "outputs": [
    {
     "data": {
      "application/vnd.microsoft.datawrangler.viewer.v0+json": {
       "columns": [
        {
         "name": "index",
         "rawType": "int64",
         "type": "integer"
        },
        {
         "name": "domain_name",
         "rawType": "object",
         "type": "string"
        },
        {
         "name": "input_string",
         "rawType": "object",
         "type": "string"
        }
       ],
       "conversionMethod": "pd.DataFrame",
       "ref": "2a7878fb-36f0-4dc7-b054-b112a70f95e1",
       "rows": [
        [
         "0",
         "irradiateher.com",
         "[CLS] ip_count: 10 [SEP] countries: United States [SEP] regions: Virginia [SEP] cities: Ashburn [SEP] timezones: America/Chicago, America/New_York [SEP]"
        ],
        [
         "1",
         "eloquentcs.com",
         "[CLS] ip_count: 1 [SEP] countries: United States [SEP] regions: NA [SEP] cities: NA [SEP] timezones: America/Chicago [SEP]"
        ],
        [
         "2",
         "www.neutralsystemsolution.space",
         "[CLS] ip_count: 1 [SEP] countries: United States [SEP] regions: Missouri [SEP] cities: Kansas City [SEP] timezones: America/Chicago [SEP]"
        ],
        [
         "3",
         "www.drshiwanijainpainclinic.com",
         "[CLS] ip_count: 1 [SEP] countries: The Netherlands [SEP] regions: Flevoland [SEP] cities: Dronten [SEP] timezones: Europe/Amsterdam [SEP]"
        ],
        [
         "4",
         "mkt9136.com",
         "[CLS] ip_count: 1 [SEP] countries: Germany [SEP] regions: Hesse [SEP] cities: Frankfurt am Main [SEP] timezones: Europe/Berlin [SEP]"
        ]
       ],
       "shape": {
        "columns": 2,
        "rows": 5
       }
      },
      "text/html": [
       "<div>\n",
       "<style scoped>\n",
       "    .dataframe tbody tr th:only-of-type {\n",
       "        vertical-align: middle;\n",
       "    }\n",
       "\n",
       "    .dataframe tbody tr th {\n",
       "        vertical-align: top;\n",
       "    }\n",
       "\n",
       "    .dataframe thead th {\n",
       "        text-align: right;\n",
       "    }\n",
       "</style>\n",
       "<table border=\"1\" class=\"dataframe\">\n",
       "  <thead>\n",
       "    <tr style=\"text-align: right;\">\n",
       "      <th></th>\n",
       "      <th>domain_name</th>\n",
       "      <th>input_string</th>\n",
       "    </tr>\n",
       "  </thead>\n",
       "  <tbody>\n",
       "    <tr>\n",
       "      <th>0</th>\n",
       "      <td>irradiateher.com</td>\n",
       "      <td>[CLS] ip_count: 10 [SEP] countries: United Sta...</td>\n",
       "    </tr>\n",
       "    <tr>\n",
       "      <th>1</th>\n",
       "      <td>eloquentcs.com</td>\n",
       "      <td>[CLS] ip_count: 1 [SEP] countries: United Stat...</td>\n",
       "    </tr>\n",
       "    <tr>\n",
       "      <th>2</th>\n",
       "      <td>www.neutralsystemsolution.space</td>\n",
       "      <td>[CLS] ip_count: 1 [SEP] countries: United Stat...</td>\n",
       "    </tr>\n",
       "    <tr>\n",
       "      <th>3</th>\n",
       "      <td>www.drshiwanijainpainclinic.com</td>\n",
       "      <td>[CLS] ip_count: 1 [SEP] countries: The Netherl...</td>\n",
       "    </tr>\n",
       "    <tr>\n",
       "      <th>4</th>\n",
       "      <td>mkt9136.com</td>\n",
       "      <td>[CLS] ip_count: 1 [SEP] countries: Germany [SE...</td>\n",
       "    </tr>\n",
       "  </tbody>\n",
       "</table>\n",
       "</div>"
      ],
      "text/plain": [
       "                       domain_name  \\\n",
       "0                 irradiateher.com   \n",
       "1                   eloquentcs.com   \n",
       "2  www.neutralsystemsolution.space   \n",
       "3  www.drshiwanijainpainclinic.com   \n",
       "4                      mkt9136.com   \n",
       "\n",
       "                                        input_string  \n",
       "0  [CLS] ip_count: 10 [SEP] countries: United Sta...  \n",
       "1  [CLS] ip_count: 1 [SEP] countries: United Stat...  \n",
       "2  [CLS] ip_count: 1 [SEP] countries: United Stat...  \n",
       "3  [CLS] ip_count: 1 [SEP] countries: The Netherl...  \n",
       "4  [CLS] ip_count: 1 [SEP] countries: Germany [SE...  "
      ]
     },
     "execution_count": 15,
     "metadata": {},
     "output_type": "execute_result"
    }
   ],
   "source": [
    "df[\"input_string\"] = df.apply(prepare_geo_input_string, axis=1)\n",
    "df[[\"domain_name\", \"input_string\"]].head()"
   ]
  },
  {
   "cell_type": "code",
   "execution_count": 16,
   "id": "17d2edd2",
   "metadata": {},
   "outputs": [
    {
     "name": "stdout",
     "output_type": "stream",
     "text": [
      "============================================================\n",
      "DOMAIN: irradiateher.com\n",
      "\n",
      "Input string:\n",
      "[CLS] ip_count: 10 [SEP] countries: United States [SEP] regions: Virginia [SEP] cities: Ashburn [SEP] timezones: America/Chicago, America/New_York [SEP]\n",
      "\n",
      "Tokens:\n",
      "['[CLS]', '[CLS]', 'ip', '_', 'count', ':', '10', '[SEP]', 'countries', ':', 'united', 'states', '[SEP]', 'regions', ':', 'virginia', '[SEP]', 'cities', ':', 'ash', '##burn', '[SEP]', 'time', '##zone', '##s', ':', 'america', '/', 'chicago', ',', 'america', '/', 'new', '_', 'york', '[SEP]', '[SEP]', '[PAD]', '[PAD]', '[PAD]', '[PAD]', '[PAD]', '[PAD]', '[PAD]', '[PAD]', '[PAD]', '[PAD]', '[PAD]', '[PAD]', '[PAD]', '[PAD]', '[PAD]', '[PAD]', '[PAD]', '[PAD]', '[PAD]', '[PAD]', '[PAD]', '[PAD]', '[PAD]', '[PAD]', '[PAD]', '[PAD]', '[PAD]']\n",
      "\n",
      "Token IDs:\n",
      "[101, 101, 12997, 1035, 4175, 1024, 2184, 102, 3032, 1024, 2142, 2163, 102, 4655, 1024, 3448, 102, 3655, 1024, 6683, 8022, 102, 2051, 15975, 2015, 1024, 2637, 1013, 3190, 1010, 2637, 1013, 2047, 1035, 2259, 102, 102, 0, 0, 0, 0, 0, 0, 0, 0, 0, 0, 0, 0, 0, 0, 0, 0, 0, 0, 0, 0, 0, 0, 0, 0, 0, 0, 0]\n",
      "\n",
      "Attention mask:\n",
      "[1, 1, 1, 1, 1, 1, 1, 1, 1, 1, 1, 1, 1, 1, 1, 1, 1, 1, 1, 1, 1, 1, 1, 1, 1, 1, 1, 1, 1, 1, 1, 1, 1, 1, 1, 1, 1, 0, 0, 0, 0, 0, 0, 0, 0, 0, 0, 0, 0, 0, 0, 0, 0, 0, 0, 0, 0, 0, 0, 0, 0, 0, 0, 0]\n",
      "============================================================\n",
      "DOMAIN: eloquentcs.com\n",
      "\n",
      "Input string:\n",
      "[CLS] ip_count: 1 [SEP] countries: United States [SEP] regions: NA [SEP] cities: NA [SEP] timezones: America/Chicago [SEP]\n",
      "\n",
      "Tokens:\n",
      "['[CLS]', '[CLS]', 'ip', '_', 'count', ':', '1', '[SEP]', 'countries', ':', 'united', 'states', '[SEP]', 'regions', ':', 'na', '[SEP]', 'cities', ':', 'na', '[SEP]', 'time', '##zone', '##s', ':', 'america', '/', 'chicago', '[SEP]', '[SEP]', '[PAD]', '[PAD]', '[PAD]', '[PAD]', '[PAD]', '[PAD]', '[PAD]', '[PAD]', '[PAD]', '[PAD]', '[PAD]', '[PAD]', '[PAD]', '[PAD]', '[PAD]', '[PAD]', '[PAD]', '[PAD]', '[PAD]', '[PAD]', '[PAD]', '[PAD]', '[PAD]', '[PAD]', '[PAD]', '[PAD]', '[PAD]', '[PAD]', '[PAD]', '[PAD]', '[PAD]', '[PAD]', '[PAD]', '[PAD]']\n",
      "\n",
      "Token IDs:\n",
      "[101, 101, 12997, 1035, 4175, 1024, 1015, 102, 3032, 1024, 2142, 2163, 102, 4655, 1024, 6583, 102, 3655, 1024, 6583, 102, 2051, 15975, 2015, 1024, 2637, 1013, 3190, 102, 102, 0, 0, 0, 0, 0, 0, 0, 0, 0, 0, 0, 0, 0, 0, 0, 0, 0, 0, 0, 0, 0, 0, 0, 0, 0, 0, 0, 0, 0, 0, 0, 0, 0, 0]\n",
      "\n",
      "Attention mask:\n",
      "[1, 1, 1, 1, 1, 1, 1, 1, 1, 1, 1, 1, 1, 1, 1, 1, 1, 1, 1, 1, 1, 1, 1, 1, 1, 1, 1, 1, 1, 1, 0, 0, 0, 0, 0, 0, 0, 0, 0, 0, 0, 0, 0, 0, 0, 0, 0, 0, 0, 0, 0, 0, 0, 0, 0, 0, 0, 0, 0, 0, 0, 0, 0, 0]\n",
      "============================================================\n",
      "DOMAIN: www.neutralsystemsolution.space\n",
      "\n",
      "Input string:\n",
      "[CLS] ip_count: 1 [SEP] countries: United States [SEP] regions: Missouri [SEP] cities: Kansas City [SEP] timezones: America/Chicago [SEP]\n",
      "\n",
      "Tokens:\n",
      "['[CLS]', '[CLS]', 'ip', '_', 'count', ':', '1', '[SEP]', 'countries', ':', 'united', 'states', '[SEP]', 'regions', ':', 'missouri', '[SEP]', 'cities', ':', 'kansas', 'city', '[SEP]', 'time', '##zone', '##s', ':', 'america', '/', 'chicago', '[SEP]', '[SEP]', '[PAD]', '[PAD]', '[PAD]', '[PAD]', '[PAD]', '[PAD]', '[PAD]', '[PAD]', '[PAD]', '[PAD]', '[PAD]', '[PAD]', '[PAD]', '[PAD]', '[PAD]', '[PAD]', '[PAD]', '[PAD]', '[PAD]', '[PAD]', '[PAD]', '[PAD]', '[PAD]', '[PAD]', '[PAD]', '[PAD]', '[PAD]', '[PAD]', '[PAD]', '[PAD]', '[PAD]', '[PAD]', '[PAD]']\n",
      "\n",
      "Token IDs:\n",
      "[101, 101, 12997, 1035, 4175, 1024, 1015, 102, 3032, 1024, 2142, 2163, 102, 4655, 1024, 5284, 102, 3655, 1024, 5111, 2103, 102, 2051, 15975, 2015, 1024, 2637, 1013, 3190, 102, 102, 0, 0, 0, 0, 0, 0, 0, 0, 0, 0, 0, 0, 0, 0, 0, 0, 0, 0, 0, 0, 0, 0, 0, 0, 0, 0, 0, 0, 0, 0, 0, 0, 0]\n",
      "\n",
      "Attention mask:\n",
      "[1, 1, 1, 1, 1, 1, 1, 1, 1, 1, 1, 1, 1, 1, 1, 1, 1, 1, 1, 1, 1, 1, 1, 1, 1, 1, 1, 1, 1, 1, 1, 0, 0, 0, 0, 0, 0, 0, 0, 0, 0, 0, 0, 0, 0, 0, 0, 0, 0, 0, 0, 0, 0, 0, 0, 0, 0, 0, 0, 0, 0, 0, 0, 0]\n"
     ]
    }
   ],
   "source": [
    "# --- Tokenise ----------------------------------------------------\n",
    "from transformers import AutoTokenizer\n",
    "\n",
    "tokenizer = AutoTokenizer.from_pretrained(\"bert-base-uncased\")\n",
    "\n",
    "encodings = tokenizer(\n",
    "    df[\"input_string\"].tolist(),\n",
    "    padding=True,\n",
    "    truncation=True,\n",
    "    max_length=64,\n",
    "    return_tensors=\"pt\"\n",
    ")\n",
    "\n",
    "# --- Inspect a few examples -------------------------------------\n",
    "def show_tokens(example_idx=0):\n",
    "    \"\"\"\n",
    "    Print the original input_string, its token list, and token ids\n",
    "    for a single row (default: first row).\n",
    "    \"\"\"\n",
    "    print(\"DOMAIN:\", df.iloc[example_idx][\"domain_name\"])\n",
    "    print(\"\\nInput string:\")\n",
    "    print(df.iloc[example_idx][\"input_string\"])\n",
    "    print(\"\\nTokens:\")\n",
    "    tokens = tokenizer.convert_ids_to_tokens(\n",
    "        encodings[\"input_ids\"][example_idx]\n",
    "    )\n",
    "    print(tokens)\n",
    "    print(\"\\nToken IDs:\")\n",
    "    print(encodings[\"input_ids\"][example_idx].tolist())\n",
    "    print(\"\\nAttention mask:\")\n",
    "    print(encodings[\"attention_mask\"][example_idx].tolist())\n",
    "\n",
    "# Display the first three examples\n",
    "for idx in range(3):\n",
    "    print(\"=\"*60)\n",
    "    show_tokens(idx)\n"
   ]
  },
  {
   "cell_type": "code",
   "execution_count": 18,
   "id": "f5e98bbc",
   "metadata": {},
   "outputs": [
    {
     "data": {
      "image/png": "[encoded data removed]",
      "text/plain": [
       "<Figure size 640x480 with 1 Axes>"
      ]
     },
     "metadata": {},
     "output_type": "display_data"
    },
    {
     "name": "stdout",
     "output_type": "stream",
     "text": [
      "Min: 27,  50th pct: 30.0,  95th pct: 37.0,  Max: 153\n"
     ]
    }
   ],
   "source": [
    "# --- Histogram of token lengths (no padding, no truncation) -----\n",
    "from transformers import AutoTokenizer\n",
    "import matplotlib.pyplot as plt\n",
    "\n",
    "assert \"input_string\" in df.columns, \"Build df and input_string first.\"\n",
    "\n",
    "tok = AutoTokenizer.from_pretrained(\"bert-base-uncased\")\n",
    "\n",
    "enc_no_pad = tok(\n",
    "    df[\"input_string\"].tolist(),\n",
    "    padding=False,          # keep original lengths\n",
    "    truncation=False,       # no cutting\n",
    ")                           # <-- no return_tensors parameter!\n",
    "\n",
    "seq_lens = [len(ids) for ids in enc_no_pad[\"input_ids\"]]\n",
    "\n",
    "plt.figure()\n",
    "plt.hist(seq_lens, bins=range(0, max(seq_lens) + 2, 2))  # width = 2 tokens\n",
    "plt.xlabel(\"Token length (unpadded)\")\n",
    "plt.ylabel(\"Number of domains\")\n",
    "plt.title(\"Histogram of geo-token sequence lengths\")\n",
    "plt.show()\n",
    "\n",
    "print(f\"Min: {min(seq_lens)},  50th pct: {pd.Series(seq_lens).median()},  \"\n",
    "      f\"95th pct: {pd.Series(seq_lens).quantile(0.95)},  Max: {max(seq_lens)}\")\n"
   ]
  },
  {
   "cell_type": "code",
   "execution_count": 2,
   "id": "41f18d27",
   "metadata": {},
   "outputs": [],
   "source": [
    "\n",
    "# ------------------------------------------------------------------\n",
    "#  Helpers you already have\n",
    "# ------------------------------------------------------------------\n",
    "def geo_tokens_from_ip_data(ip_data):\n",
    "    if not ip_data:\n",
    "        return [\"ip_count: 0\", \"countries: NA\", \"regions: NA\",\n",
    "                \"cities: NA\", \"timezones: NA\"]\n",
    "\n",
    "    ip_count = len(ip_data)\n",
    "    countries, regions, cities, timezones = set(), set(), set(), set()\n",
    "\n",
    "    for rec in ip_data:\n",
    "        if not isinstance(rec, dict):\n",
    "            continue\n",
    "        geo = rec.get(\"geo\") or {}\n",
    "        countries.add(geo.get(\"country\") or geo.get(\"country_code\") or \"NA\")\n",
    "        regions.add(geo.get(\"region\") or \"NA\")\n",
    "        cities.add(geo.get(\"city\") or \"NA\")\n",
    "        timezones.add(geo.get(\"timezone\") or \"NA\")\n",
    "\n",
    "    def uniq(vals):\n",
    "        vals.discard(\"NA\")\n",
    "        return \", \".join(sorted(vals)) if vals else \"NA\"\n",
    "\n",
    "    return [\n",
    "        f\"ip_count: {ip_count}\",\n",
    "        f\"countries: {uniq(countries)}\",\n",
    "        f\"regions: {uniq(regions)}\",\n",
    "        f\"cities: {uniq(cities)}\",\n",
    "        f\"timezones: {uniq(timezones)}\",\n",
    "    ]\n",
    "\n",
    "\n",
    "def prepare_geo_input_string(row):\n",
    "    CLS, SEP = \"[CLS]\", \"[SEP]\"\n",
    "    domain = (row.get(\"domain_name\") or \"NA\").lower().lstrip(\"www.\")\n",
    "    tokens = [f\"domain: {domain}\"] + geo_tokens_from_ip_data(row.get(\"ip_data\"))\n",
    "    return f\"{CLS} \" + f\" {SEP} \".join(tokens) + f\" {SEP}\"\n",
    "\n",
    "\n",
    "def stream_json(path: Path):\n",
    "    with path.open(\"r\", encoding=\"utf-8\") as f:\n",
    "        for line in f:\n",
    "            line = line.strip()\n",
    "            if line:\n",
    "                yield json.loads(line)\n",
    "\n",
    "\n",
    "def build_dataset(json_path: str | Path, label: int) -> pd.DataFrame:\n",
    "    \"\"\"Load a JSON-Lines file and return a DF with domain_name, input_string, label.\"\"\"\n",
    "    path = Path(json_path)\n",
    "    df = pd.DataFrame(stream_json(path))\n",
    "    df[\"input_string\"] = df.apply(prepare_geo_input_string, axis=1)\n",
    "    df[\"label\"] = label\n",
    "    return df[[\"input_string\", \"label\"]]   # keep only the two required cols"
   ]
  },
  {
   "cell_type": "code",
   "execution_count": 3,
   "id": "1e923c51",
   "metadata": {},
   "outputs": [],
   "source": [
    "# ------------------------------------------------------------------\n",
    "#  Build benign and malware sets\n",
    "# ------------------------------------------------------------------\n",
    "# --- 1)  stream the massive JSON-lines export ------------------\n",
    "# Construct the path to the JSON file relative to this script's location.\n",
    "script_path = Path.cwd()\n",
    "# Go up 3 levels to the project root (from transformers/data -> transformers -> project_root)\n",
    "project_root = script_path.parent.parent\n",
    "# malware_file_path = project_root / \"datasets\" / \"malware\" / \"malware_strict_ip_2024.json\"\n",
    "malware_file_path = project_root / \"datasets\" / \"phishing\" / \"phishing_strict_ip_2024.json\"\n",
    "benign_file_path = project_root / \"datasets\" / \"benign\" / \"benign_2312_anonymized_ip_2024.json\"\n",
    "df_malware = build_dataset(malware_file_path, label=1)\n",
    "df_benign  = build_dataset(benign_file_path,  label=0)"
   ]
  },
  {
   "cell_type": "code",
   "execution_count": 4,
   "id": "b13240b3",
   "metadata": {},
   "outputs": [
    {
     "name": "stdout",
     "output_type": "stream",
     "text": [
      "✅ Wrote /home/fetagpu/Work/01-transofmers/datasets/phishing/ip_phishing_preprocessed.csv with 328,850 rows (164,425 benign + 164,425 malware)\n"
     ]
    }
   ],
   "source": [
    "# ------------------------------------------------------------------\n",
    "#  Merge, balance, shuffle, save\n",
    "# ------------------------------------------------------------------\n",
    "combined = pd.concat([df_malware, df_benign], ignore_index=True)\n",
    "\n",
    "# ----- down-sample the larger class so both have the same count -----\n",
    "minority_size = min(len(df_malware), len(df_benign))\n",
    "\n",
    "df_malware_bal = df_malware.sample(n=minority_size, random_state=42)\n",
    "df_benign_bal  = df_benign.sample(n=minority_size,  random_state=42)\n",
    "\n",
    "balanced = pd.concat([df_malware_bal, df_benign_bal], ignore_index=True)\n",
    "balanced = balanced.sample(frac=1, random_state=42).reset_index(drop=True)\n",
    "\n",
    "# out_path = project_root / \"datasets\" / \"malware\" / \"ip_malware_preprocessed.csv\"\n",
    "out_path = project_root / \"datasets\" / \"phishing\" / \"ip_phishing_preprocessed.csv\"\n",
    "balanced.to_csv(out_path, index=False)\n",
    "print(f\"✅ Wrote {out_path.resolve()} with {balanced.shape[0]:,} rows \"\n",
    "      f\"({minority_size:,} benign + {minority_size:,} malware)\")\n"
   ]
  }
 ],
 "metadata": {
  "kernelspec": {
   "display_name": "gpu",
   "language": "python",
   "name": "python3"
  },
  "language_info": {
   "codemirror_mode": {
    "name": "ipython",
    "version": 3
   },
   "file_extension": ".py",
   "mimetype": "text/x-python",
   "name": "python",
   "nbconvert_exporter": "python",
   "pygments_lexer": "ipython3",
   "version": "3.10.13"
  }
 },
 "nbformat": 4,
 "nbformat_minor": 5
}
